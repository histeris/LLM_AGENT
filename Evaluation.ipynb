{
 "cells": [
  {
   "cell_type": "code",
   "execution_count": 54,
   "id": "315101b8",
   "metadata": {},
   "outputs": [],
   "source": [
    "from nltk.translate.bleu_score import sentence_bleu\n",
    "from rouge import Rouge\n",
    "import pandas as pd"
   ]
  },
  {
   "cell_type": "code",
   "execution_count": 55,
   "id": "016cca98",
   "metadata": {},
   "outputs": [],
   "source": [
    "df = pd.read_csv(\"obat_alodokter_new.csv\")\n",
    "df.head()\n",
    "df_obat_for_eval = df.drop(['nama_obat'],axis=1)"
   ]
  },
  {
   "cell_type": "code",
   "execution_count": 56,
   "id": "70c88294",
   "metadata": {},
   "outputs": [],
   "source": [
    "import re\n",
    "\n",
    "def clean_text(text):\n",
    "    text = re.sub(r'\\n+', ' ', text)  # hapus banyak \\n\n",
    "    text = re.sub(r'\\s+', ' ', text)   # hapus spasi berlebihan\n",
    "    return text.strip()\n",
    "\n",
    "df['cleaned_reference'] = df['content'].apply(clean_text)\n",
    "\n",
    "df['generated_text'] = df['cleaned_reference'].apply(lambda x: x.lower())"
   ]
  },
  {
   "cell_type": "code",
   "execution_count": 57,
   "id": "c9e625da",
   "metadata": {},
   "outputs": [],
   "source": [
    "df_obat_for_bleu = df.drop(['nama_obat','generated_text','content'],axis=1)\n",
    "df_obat_for_ndcg = df.drop(['generated_text','content'],axis=1)"
   ]
  },
  {
   "cell_type": "code",
   "execution_count": 58,
   "id": "5582a155",
   "metadata": {},
   "outputs": [
    {
     "data": {
      "text/html": [
       "<div>\n",
       "<style scoped>\n",
       "    .dataframe tbody tr th:only-of-type {\n",
       "        vertical-align: middle;\n",
       "    }\n",
       "\n",
       "    .dataframe tbody tr th {\n",
       "        vertical-align: top;\n",
       "    }\n",
       "\n",
       "    .dataframe thead th {\n",
       "        text-align: right;\n",
       "    }\n",
       "</style>\n",
       "<table border=\"1\" class=\"dataframe\">\n",
       "  <thead>\n",
       "    <tr style=\"text-align: right;\">\n",
       "      <th></th>\n",
       "      <th>cleaned_reference</th>\n",
       "    </tr>\n",
       "  </thead>\n",
       "  <tbody>\n",
       "    <tr>\n",
       "      <th>0</th>\n",
       "      <td>Zyloric Zyloric adalah obat untuk menurunkan k...</td>\n",
       "    </tr>\n",
       "    <tr>\n",
       "      <th>1</th>\n",
       "      <td>Zovirax Krim Zovirax krim adalah obat oles yan...</td>\n",
       "    </tr>\n",
       "    <tr>\n",
       "      <th>2</th>\n",
       "      <td>Zovigen Zovigen adalah obat oles yang bermanfa...</td>\n",
       "    </tr>\n",
       "    <tr>\n",
       "      <th>3</th>\n",
       "      <td>Zoralin Krim Zoralin krim adalah obat oles unt...</td>\n",
       "    </tr>\n",
       "    <tr>\n",
       "      <th>4</th>\n",
       "      <td>Zoralin Zoralin adalah tablet antijamur berbah...</td>\n",
       "    </tr>\n",
       "    <tr>\n",
       "      <th>...</th>\n",
       "      <td>...</td>\n",
       "    </tr>\n",
       "    <tr>\n",
       "      <th>2168</th>\n",
       "      <td>Acarbose Acarbose adalah obat untuk menurunkan...</td>\n",
       "    </tr>\n",
       "    <tr>\n",
       "      <th>2169</th>\n",
       "      <td>Acalabrutinib Acalabrutinib adalah obat kemote...</td>\n",
       "    </tr>\n",
       "    <tr>\n",
       "      <th>2170</th>\n",
       "      <td>Abrocitinib Abrocitinib adalah obat untuk meng...</td>\n",
       "    </tr>\n",
       "    <tr>\n",
       "      <th>2171</th>\n",
       "      <td>Abemaciclib Abemaciclib adalah obat kemoterapi...</td>\n",
       "    </tr>\n",
       "    <tr>\n",
       "      <th>2172</th>\n",
       "      <td>Abacavir Abacavir adalah obat antivirus yang d...</td>\n",
       "    </tr>\n",
       "  </tbody>\n",
       "</table>\n",
       "<p>2173 rows × 1 columns</p>\n",
       "</div>"
      ],
      "text/plain": [
       "                                      cleaned_reference\n",
       "0     Zyloric Zyloric adalah obat untuk menurunkan k...\n",
       "1     Zovirax Krim Zovirax krim adalah obat oles yan...\n",
       "2     Zovigen Zovigen adalah obat oles yang bermanfa...\n",
       "3     Zoralin Krim Zoralin krim adalah obat oles unt...\n",
       "4     Zoralin Zoralin adalah tablet antijamur berbah...\n",
       "...                                                 ...\n",
       "2168  Acarbose Acarbose adalah obat untuk menurunkan...\n",
       "2169  Acalabrutinib Acalabrutinib adalah obat kemote...\n",
       "2170  Abrocitinib Abrocitinib adalah obat untuk meng...\n",
       "2171  Abemaciclib Abemaciclib adalah obat kemoterapi...\n",
       "2172  Abacavir Abacavir adalah obat antivirus yang d...\n",
       "\n",
       "[2173 rows x 1 columns]"
      ]
     },
     "execution_count": 58,
     "metadata": {},
     "output_type": "execute_result"
    }
   ],
   "source": [
    "df_obat_for_bleu"
   ]
  },
  {
   "cell_type": "code",
   "execution_count": 59,
   "id": "9641795e",
   "metadata": {},
   "outputs": [
    {
     "data": {
      "text/html": [
       "<div>\n",
       "<style scoped>\n",
       "    .dataframe tbody tr th:only-of-type {\n",
       "        vertical-align: middle;\n",
       "    }\n",
       "\n",
       "    .dataframe tbody tr th {\n",
       "        vertical-align: top;\n",
       "    }\n",
       "\n",
       "    .dataframe thead th {\n",
       "        text-align: right;\n",
       "    }\n",
       "</style>\n",
       "<table border=\"1\" class=\"dataframe\">\n",
       "  <thead>\n",
       "    <tr style=\"text-align: right;\">\n",
       "      <th></th>\n",
       "      <th>nama_obat</th>\n",
       "      <th>cleaned_reference</th>\n",
       "    </tr>\n",
       "  </thead>\n",
       "  <tbody>\n",
       "    <tr>\n",
       "      <th>0</th>\n",
       "      <td>Zyloric</td>\n",
       "      <td>Zyloric Zyloric adalah obat untuk menurunkan k...</td>\n",
       "    </tr>\n",
       "    <tr>\n",
       "      <th>1</th>\n",
       "      <td>Zovirax Krim</td>\n",
       "      <td>Zovirax Krim Zovirax krim adalah obat oles yan...</td>\n",
       "    </tr>\n",
       "    <tr>\n",
       "      <th>2</th>\n",
       "      <td>Zovigen</td>\n",
       "      <td>Zovigen Zovigen adalah obat oles yang bermanfa...</td>\n",
       "    </tr>\n",
       "    <tr>\n",
       "      <th>3</th>\n",
       "      <td>Zoralin Krim</td>\n",
       "      <td>Zoralin Krim Zoralin krim adalah obat oles unt...</td>\n",
       "    </tr>\n",
       "    <tr>\n",
       "      <th>4</th>\n",
       "      <td>Zoralin</td>\n",
       "      <td>Zoralin Zoralin adalah tablet antijamur berbah...</td>\n",
       "    </tr>\n",
       "    <tr>\n",
       "      <th>...</th>\n",
       "      <td>...</td>\n",
       "      <td>...</td>\n",
       "    </tr>\n",
       "    <tr>\n",
       "      <th>2168</th>\n",
       "      <td>Acarbose</td>\n",
       "      <td>Acarbose Acarbose adalah obat untuk menurunkan...</td>\n",
       "    </tr>\n",
       "    <tr>\n",
       "      <th>2169</th>\n",
       "      <td>Acalabrutinib</td>\n",
       "      <td>Acalabrutinib Acalabrutinib adalah obat kemote...</td>\n",
       "    </tr>\n",
       "    <tr>\n",
       "      <th>2170</th>\n",
       "      <td>Abrocitinib</td>\n",
       "      <td>Abrocitinib Abrocitinib adalah obat untuk meng...</td>\n",
       "    </tr>\n",
       "    <tr>\n",
       "      <th>2171</th>\n",
       "      <td>Abemaciclib</td>\n",
       "      <td>Abemaciclib Abemaciclib adalah obat kemoterapi...</td>\n",
       "    </tr>\n",
       "    <tr>\n",
       "      <th>2172</th>\n",
       "      <td>Abacavir</td>\n",
       "      <td>Abacavir Abacavir adalah obat antivirus yang d...</td>\n",
       "    </tr>\n",
       "  </tbody>\n",
       "</table>\n",
       "<p>2173 rows × 2 columns</p>\n",
       "</div>"
      ],
      "text/plain": [
       "          nama_obat                                  cleaned_reference\n",
       "0           Zyloric  Zyloric Zyloric adalah obat untuk menurunkan k...\n",
       "1      Zovirax Krim  Zovirax Krim Zovirax krim adalah obat oles yan...\n",
       "2           Zovigen  Zovigen Zovigen adalah obat oles yang bermanfa...\n",
       "3      Zoralin Krim  Zoralin Krim Zoralin krim adalah obat oles unt...\n",
       "4           Zoralin  Zoralin Zoralin adalah tablet antijamur berbah...\n",
       "...             ...                                                ...\n",
       "2168       Acarbose  Acarbose Acarbose adalah obat untuk menurunkan...\n",
       "2169  Acalabrutinib  Acalabrutinib Acalabrutinib adalah obat kemote...\n",
       "2170    Abrocitinib  Abrocitinib Abrocitinib adalah obat untuk meng...\n",
       "2171    Abemaciclib  Abemaciclib Abemaciclib adalah obat kemoterapi...\n",
       "2172       Abacavir  Abacavir Abacavir adalah obat antivirus yang d...\n",
       "\n",
       "[2173 rows x 2 columns]"
      ]
     },
     "execution_count": 59,
     "metadata": {},
     "output_type": "execute_result"
    }
   ],
   "source": [
    "df_obat_for_ndcg"
   ]
  },
  {
   "cell_type": "code",
   "execution_count": 60,
   "id": "eba799a0",
   "metadata": {},
   "outputs": [],
   "source": [
    "import pandas as pd\n",
    "import json\n",
    "\n",
    "def format_result_to_text(user_data):\n",
    "    formatted_text = \"\"\n",
    "    for idx, record in enumerate(user_data['agent']):\n",
    "        nomor = idx + 1  \n",
    "        formatted_text += f\"{nomor}. Rekomendasi obat:\\n\"\n",
    "        formatted_text += f\" - {record.get('nama_obat')} Dosis: {record.get('dosis')}\\n\"\n",
    "        formatted_text += f\"   Aturan pakai: {record.get('aturan_pakai', 'Aturan Pakai Tidak Tersedia')}\\n\"\n",
    "        formatted_text += f\"   Efek samping: {record.get('efek_samping_obat', 'Efek Samping Tidak Tersedia')}\\n\\n\"\n",
    "    return formatted_text.strip()\n",
    "\n",
    "with open('memory.json', 'r') as file:\n",
    "    data = json.load(file)\n",
    "\n",
    "df_obat_for_bleu = pd.DataFrame({\n",
    "    'generated_text': [None] * 4 \n",
    "})\n",
    "\n",
    "user_id = \"7116300622\"\n",
    "if user_id in data:\n",
    "    user_data = data[user_id][0] \n",
    "    formatted_text = format_result_to_text(user_data)\n",
    "    \n",
    "    df_obat_for_bleu.loc[0, 'generated_text'] = formatted_text\n"
   ]
  },
  {
   "cell_type": "code",
   "execution_count": 61,
   "id": "0199e8f4",
   "metadata": {},
   "outputs": [],
   "source": [
    "bleu_scores = []\n",
    "rouge_scores = []\n",
    "\n",
    "rouge = Rouge()"
   ]
  },
  {
   "cell_type": "code",
   "execution_count": 62,
   "id": "db43b162",
   "metadata": {},
   "outputs": [
    {
     "name": "stdout",
     "output_type": "stream",
     "text": [
      "Average BLEU: 0.6563175584020436\n",
      "Average ROUGE-1: 0.8320645836767182\n",
      "Average ROUGE-2: 0.710628568721906\n",
      "Average ROUGE-L: 0.8320645836767182\n"
     ]
    }
   ],
   "source": [
    "for idx, row in df.iterrows():\n",
    "    reference = [row['cleaned_reference'].split()]  # list of list\n",
    "    candidate = row['generated_text'].split()\n",
    "\n",
    "    # Hitung BLEU\n",
    "    bleu = sentence_bleu(reference, candidate)\n",
    "    bleu_scores.append(bleu)\n",
    "\n",
    "    # Hitung ROUGE\n",
    "    rouge_score = rouge.get_scores(row['generated_text'], row['cleaned_reference'])[0]\n",
    "    rouge_scores.append(rouge_score)\n",
    "\n",
    "# Rata-rata skor\n",
    "avg_bleu = sum(bleu_scores) / len(bleu_scores)\n",
    "avg_rouge_1 = sum([r['rouge-1']['f'] for r in rouge_scores]) / len(rouge_scores)\n",
    "avg_rouge_2 = sum([r['rouge-2']['f'] for r in rouge_scores]) / len(rouge_scores)\n",
    "avg_rouge_l = sum([r['rouge-l']['f'] for r in rouge_scores]) / len(rouge_scores)\n",
    "\n",
    "print(\"Average BLEU:\", avg_bleu)\n",
    "print(\"Average ROUGE-1:\", avg_rouge_1)\n",
    "print(\"Average ROUGE-2:\", avg_rouge_2)\n",
    "print(\"Average ROUGE-L:\", avg_rouge_l)"
   ]
  },
  {
   "cell_type": "code",
   "execution_count": 63,
   "id": "ae1a9999",
   "metadata": {},
   "outputs": [],
   "source": [
    "import math\n",
    "\n",
    "def dcg(relevances):\n",
    "    return sum((rel / math.log2(i + 2)) for i, rel in enumerate(relevances))\n",
    "\n",
    "def compute_ndcg_at_k(true_relevant, recommended_items, k=5):\n",
    "    recommended_items_k = recommended_items[:k]\n",
    "\n",
    "    relevance_scores = [1 if item in true_relevant else 0 for item in recommended_items_k]\n",
    "\n",
    "    actual_dcg = dcg(relevance_scores)\n",
    "\n",
    "    ideal_relevance = sorted(relevance_scores, reverse=True)\n",
    "    ideal_dcg = dcg(ideal_relevance)\n",
    "\n",
    "    if ideal_dcg == 0:\n",
    "        return 0.0\n",
    "\n",
    "    return actual_dcg / ideal_dcg"
   ]
  },
  {
   "cell_type": "code",
   "execution_count": 64,
   "id": "55637a8b",
   "metadata": {},
   "outputs": [
    {
     "name": "stdout",
     "output_type": "stream",
     "text": [
      "NDCG Score (Penyakit Biduran): 1.0\n"
     ]
    }
   ],
   "source": [
    "true_relevant = ['Loratadine', 'Cetirizine', 'Alloris','Lerzin','Claritin','Incidal'] \n",
    "recommended_items = ['Cetirizine', 'Loratadine', 'Prednison', 'Diphenhydramine', 'Hydroxyzine'] \n",
    "ndcg_score = compute_ndcg_at_k(true_relevant, recommended_items, k=5)\n",
    "\n",
    "print(f'NDCG Score (Penyakit Biduran): {ndcg_score}')\n",
    "\n",
    "# True Relevant are from : https://www.halodoc.com/artikel/ini-7-rekomendasi-obat-biduran-yang-ampuh-redakan-gatal-pada-kulit?srsltid=AfmBOop_TdeE3_w0hvmboT2MaqozctxPiEfYttqcFtmR82yZn_utLuc9"
   ]
  },
  {
   "cell_type": "code",
   "execution_count": 65,
   "id": "d53cd405",
   "metadata": {},
   "outputs": [
    {
     "name": "stdout",
     "output_type": "stream",
     "text": [
      "NDCG Score (Penyakit TBC): 1.0\n"
     ]
    }
   ],
   "source": [
    "true_relevant = ['Isoniazid', 'Rifampicin', 'Pro TB-4','Pro TB-2','Pyrazinamide'] \n",
    "recommended_items = ['Rifampicin', 'Isoniazid', 'Pyrazinamide', 'Ethambutol', 'Streptomisin'] \n",
    "ndcg_score = compute_ndcg_at_k(true_relevant, recommended_items, k=5)\n",
    "\n",
    "print(f'NDCG Score (Penyakit TBC): {ndcg_score}')\n",
    "\n",
    "# True Relevant are from : https://www.halodoc.com/artikel/ini-5-rekomendasi-obat-tbc-paling-ampuh-di-apotek?srsltid=AfmBOoriugcRH8mkDix6JTJHlcJZrQtnA1ATLKQGkXAWfcS9S0envryI"
   ]
  },
  {
   "cell_type": "code",
   "execution_count": 66,
   "id": "a0d7e1b8",
   "metadata": {},
   "outputs": [
    {
     "name": "stdout",
     "output_type": "stream",
     "text": [
      "NDCG Score (Penyakit Emboli Paru): 0.9828920819566879\n"
     ]
    }
   ],
   "source": [
    "true_relevant = ['Warfarin', 'Rivaroxaban', 'Dabigatran','Apixaban','Edoxaban','Heparin'] \n",
    "recommended_items = ['Heparin', 'Warfarin', 'Edoxaban', 'Enoxaparin', 'Rivaroxaban'] \n",
    "ndcg_score = compute_ndcg_at_k(true_relevant, recommended_items, k=5)\n",
    "\n",
    "print(f'NDCG Score (Penyakit Emboli Paru): {ndcg_score}')\n",
    "\n",
    "# True Relevant are from : https://hellosehat.com/pernapasan/emboli-paru/obat-emboli-paru/"
   ]
  },
  {
   "cell_type": "code",
   "execution_count": 67,
   "id": "c87c0588",
   "metadata": {},
   "outputs": [
    {
     "name": "stdout",
     "output_type": "stream",
     "text": [
      "NDCG Score (Penyakit Alergi Mata): 1.0\n"
     ]
    }
   ],
   "source": [
    "true_relevant = ['Olopatadine', 'Azelastin', 'Ketotifen','Dekongestan'] \n",
    "recommended_items = ['Olopatadine', 'Cetirizine', 'Loratadine', 'saline', 'Antazoline'] \n",
    "ndcg_score = compute_ndcg_at_k(true_relevant, recommended_items, k=5)\n",
    "\n",
    "print(f'NDCG Score (Penyakit Alergi Mata): {ndcg_score}')\n",
    "\n",
    "# True Relevant are from : https://hellosehat.com/alergi/hidung-dan-mata/obat-alergi-mata/"
   ]
  },
  {
   "cell_type": "code",
   "execution_count": 68,
   "id": "a0640afe",
   "metadata": {},
   "outputs": [
    {
     "name": "stdout",
     "output_type": "stream",
     "text": [
      "NDCG Score (Penyakit Anemia defisiensi besi): 1.0\n"
     ]
    }
   ],
   "source": [
    "true_relevant = ['Besi elemental (garam besi)', 'Ferrous Sulfate', 'Ferrous Fumarate','Ferrous Gluconate','Heme iron polypeptide','Iron polysaccharide'] \n",
    "recommended_items = ['Ferrous Sulfate', 'Ferrous Gluconate', 'Ferrous Fumarate', 'Iron Sucrose', 'Polysaccharide Iron Complex'] \n",
    "ndcg_score = compute_ndcg_at_k(true_relevant, recommended_items, k=5)\n",
    "\n",
    "print(f'NDCG Score (Penyakit Anemia defisiensi besi): {ndcg_score}')\n",
    "\n",
    "# True Relevant are from : https://www.alomedika.com/penyakit/hematologi/anemia-defisiensi-besi/penatalaksanaan"
   ]
  },
  {
   "cell_type": "code",
   "execution_count": 69,
   "id": "aef302ec",
   "metadata": {},
   "outputs": [
    {
     "name": "stdout",
     "output_type": "stream",
     "text": [
      "F1 Score: 0.3902439024390244\n"
     ]
    }
   ],
   "source": [
    "def f1_score_rag(pred, true):\n",
    "    pred_tokens = pred.lower().split()\n",
    "    true_tokens = true.lower().split()\n",
    "\n",
    "    common = set(pred_tokens) & set(true_tokens)\n",
    "    if not common:\n",
    "        return 0.0\n",
    "\n",
    "    precision = len(common) / len(pred_tokens)\n",
    "    recall = len(common) / len(true_tokens)\n",
    "    f1 = 2 * precision * recall / (precision + recall)\n",
    "    return f1\n",
    "\n",
    "generated_answer = 'Modafinil diambil sesuai dosis yang diresepkan dokter tergantung kondisi pasien. Pastikan untuk mengikuti instruksi serta waktu dan cara penggunaan yang tepat.'\n",
    "ground_truth_answer = 'Dosis modafinil yang diresepkan dokter dapat berbeda pada tiap pasien. Berikut ini adalah dosis umum penggunaan modafinil berdasarkan kondisi pasien'\n",
    "\n",
    "f1_score = f1_score_rag(generated_answer, ground_truth_answer)\n",
    "\n",
    "print(\"F1 Score:\",f1_score)"
   ]
  },
  {
   "cell_type": "code",
   "execution_count": 70,
   "id": "8b5e70af",
   "metadata": {},
   "outputs": [],
   "source": [
    "scores = {\n",
    "    \"Bleu\" : avg_bleu,\n",
    "    \"Rouge-1\" : avg_rouge_1,\n",
    "    \"Rouge-2\" : avg_rouge_2,\n",
    "    \"Rouge-L\" : avg_rouge_l,\n",
    "    \"F1-Score\" : f1_score,\n",
    "    \"NDCG\" : ndcg_score\n",
    "}"
   ]
  },
  {
   "cell_type": "code",
   "execution_count": 71,
   "id": "3421947a",
   "metadata": {},
   "outputs": [
    {
     "data": {
      "image/png": "[encoded data removed]",
      "text/plain": [
       "<Figure size 800x500 with 1 Axes>"
      ]
     },
     "metadata": {},
     "output_type": "display_data"
    }
   ],
   "source": [
    "import matplotlib.pyplot as plt\n",
    "\n",
    "# Data\n",
    "metrics = list(scores.keys())\n",
    "values = list(scores.values())\n",
    "\n",
    "# Plot\n",
    "plt.figure(figsize=(8, 5))\n",
    "bars = plt.bar(metrics, values, color='skyblue')\n",
    "\n",
    "# Tambahkan nilai di atas bar\n",
    "for bar in bars:\n",
    "    yval = bar.get_height()\n",
    "    plt.text(bar.get_x() + bar.get_width()/2.0, yval + 0.01, f\"{yval:.2f}\", ha='center')\n",
    "\n",
    "# Label dan judul\n",
    "plt.ylim(0, 1)\n",
    "plt.title(\"Model Performance Metrics\")\n",
    "plt.ylabel(\"Score\")\n",
    "plt.xlabel(\"Metrics\")\n",
    "plt.grid(axis='y', linestyle='--', alpha=0.7)\n",
    "plt.tight_layout()\n",
    "plt.show()\n"
   ]
  },
  {
   "cell_type": "code",
   "execution_count": null,
   "id": "25e4fde5",
   "metadata": {},
   "outputs": [],
   "source": []
  }
 ],
 "metadata": {
  "kernelspec": {
   "display_name": "Python 3",
   "language": "python",
   "name": "python3"
  },
  "language_info": {
   "codemirror_mode": {
    "name": "ipython",
    "version": 3
   },
   "file_extension": ".py",
   "mimetype": "text/x-python",
   "name": "python",
   "nbconvert_exporter": "python",
   "pygments_lexer": "ipython3",
   "version": "3.10.0"
  }
 },
 "nbformat": 4,
 "nbformat_minor": 5
}
