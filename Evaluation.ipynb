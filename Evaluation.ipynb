{
 "cells": [
  {
   "cell_type": "code",
   "execution_count": 12,
   "id": "315101b8",
   "metadata": {},
   "outputs": [],
   "source": [
    "from nltk.translate.bleu_score import sentence_bleu\n",
    "from rouge import Rouge\n",
    "import pandas as pd"
   ]
  },
  {
   "cell_type": "code",
   "execution_count": 13,
   "id": "016cca98",
   "metadata": {},
   "outputs": [],
   "source": [
    "df = pd.read_csv(\"obat_alodokter_new.csv\")\n",
    "df.head()\n",
    "df_obat_for_eval = df.drop(['nama_obat'],axis=1)"
   ]
  },
  {
   "cell_type": "code",
   "execution_count": 14,
   "id": "70c88294",
   "metadata": {},
   "outputs": [],
   "source": [
    "import re\n",
    "\n",
    "def clean_text(text):\n",
    "    text = re.sub(r'\\n+', ' ', text)  # hapus banyak \\n\n",
    "    text = re.sub(r'\\s+', ' ', text)   # hapus spasi berlebihan\n",
    "    return text.strip()\n",
    "\n",
    "df['cleaned_reference'] = df['content'].apply(clean_text)\n",
    "\n",
    "df['generated_text'] = df['cleaned_reference'].apply(lambda x: x.lower())"
   ]
  },
  {
   "cell_type": "code",
   "execution_count": 15,
   "id": "c9e625da",
   "metadata": {},
   "outputs": [],
   "source": [
    "df_obat_for_bleu = df.drop(['nama_obat','generated_text','content'],axis=1)\n",
    "df_obat_for_ndcg = df.drop(['generated_text','content'],axis=1)"
   ]
  },
  {
   "cell_type": "code",
   "execution_count": 16,
   "id": "5582a155",
   "metadata": {},
   "outputs": [
    {
     "data": {
      "text/html": [
       "<div>\n",
       "<style scoped>\n",
       "    .dataframe tbody tr th:only-of-type {\n",
       "        vertical-align: middle;\n",
       "    }\n",
       "\n",
       "    .dataframe tbody tr th {\n",
       "        vertical-align: top;\n",
       "    }\n",
       "\n",
       "    .dataframe thead th {\n",
       "        text-align: right;\n",
       "    }\n",
       "</style>\n",
       "<table border=\"1\" class=\"dataframe\">\n",
       "  <thead>\n",
       "    <tr style=\"text-align: right;\">\n",
       "      <th></th>\n",
       "      <th>cleaned_reference</th>\n",
       "    </tr>\n",
       "  </thead>\n",
       "  <tbody>\n",
       "    <tr>\n",
       "      <th>0</th>\n",
       "      <td>Zyloric Zyloric adalah obat untuk menurunkan k...</td>\n",
       "    </tr>\n",
       "    <tr>\n",
       "      <th>1</th>\n",
       "      <td>Zovirax Krim Zovirax krim adalah obat oles yan...</td>\n",
       "    </tr>\n",
       "    <tr>\n",
       "      <th>2</th>\n",
       "      <td>Zovigen Zovigen adalah obat oles yang bermanfa...</td>\n",
       "    </tr>\n",
       "    <tr>\n",
       "      <th>3</th>\n",
       "      <td>Zoralin Krim Zoralin krim adalah obat oles unt...</td>\n",
       "    </tr>\n",
       "    <tr>\n",
       "      <th>4</th>\n",
       "      <td>Zoralin Zoralin adalah tablet antijamur berbah...</td>\n",
       "    </tr>\n",
       "    <tr>\n",
       "      <th>...</th>\n",
       "      <td>...</td>\n",
       "    </tr>\n",
       "    <tr>\n",
       "      <th>2168</th>\n",
       "      <td>Acarbose Acarbose adalah obat untuk menurunkan...</td>\n",
       "    </tr>\n",
       "    <tr>\n",
       "      <th>2169</th>\n",
       "      <td>Acalabrutinib Acalabrutinib adalah obat kemote...</td>\n",
       "    </tr>\n",
       "    <tr>\n",
       "      <th>2170</th>\n",
       "      <td>Abrocitinib Abrocitinib adalah obat untuk meng...</td>\n",
       "    </tr>\n",
       "    <tr>\n",
       "      <th>2171</th>\n",
       "      <td>Abemaciclib Abemaciclib adalah obat kemoterapi...</td>\n",
       "    </tr>\n",
       "    <tr>\n",
       "      <th>2172</th>\n",
       "      <td>Abacavir Abacavir adalah obat antivirus yang d...</td>\n",
       "    </tr>\n",
       "  </tbody>\n",
       "</table>\n",
       "<p>2173 rows × 1 columns</p>\n",
       "</div>"
      ],
      "text/plain": [
       "                                      cleaned_reference\n",
       "0     Zyloric Zyloric adalah obat untuk menurunkan k...\n",
       "1     Zovirax Krim Zovirax krim adalah obat oles yan...\n",
       "2     Zovigen Zovigen adalah obat oles yang bermanfa...\n",
       "3     Zoralin Krim Zoralin krim adalah obat oles unt...\n",
       "4     Zoralin Zoralin adalah tablet antijamur berbah...\n",
       "...                                                 ...\n",
       "2168  Acarbose Acarbose adalah obat untuk menurunkan...\n",
       "2169  Acalabrutinib Acalabrutinib adalah obat kemote...\n",
       "2170  Abrocitinib Abrocitinib adalah obat untuk meng...\n",
       "2171  Abemaciclib Abemaciclib adalah obat kemoterapi...\n",
       "2172  Abacavir Abacavir adalah obat antivirus yang d...\n",
       "\n",
       "[2173 rows x 1 columns]"
      ]
     },
     "execution_count": 16,
     "metadata": {},
     "output_type": "execute_result"
    }
   ],
   "source": [
    "df_obat_for_bleu"
   ]
  },
  {
   "cell_type": "code",
   "execution_count": 17,
   "id": "9641795e",
   "metadata": {},
   "outputs": [
    {
     "data": {
      "text/html": [
       "<div>\n",
       "<style scoped>\n",
       "    .dataframe tbody tr th:only-of-type {\n",
       "        vertical-align: middle;\n",
       "    }\n",
       "\n",
       "    .dataframe tbody tr th {\n",
       "        vertical-align: top;\n",
       "    }\n",
       "\n",
       "    .dataframe thead th {\n",
       "        text-align: right;\n",
       "    }\n",
       "</style>\n",
       "<table border=\"1\" class=\"dataframe\">\n",
       "  <thead>\n",
       "    <tr style=\"text-align: right;\">\n",
       "      <th></th>\n",
       "      <th>nama_obat</th>\n",
       "      <th>cleaned_reference</th>\n",
       "    </tr>\n",
       "  </thead>\n",
       "  <tbody>\n",
       "    <tr>\n",
       "      <th>0</th>\n",
       "      <td>Zyloric</td>\n",
       "      <td>Zyloric Zyloric adalah obat untuk menurunkan k...</td>\n",
       "    </tr>\n",
       "    <tr>\n",
       "      <th>1</th>\n",
       "      <td>Zovirax Krim</td>\n",
       "      <td>Zovirax Krim Zovirax krim adalah obat oles yan...</td>\n",
       "    </tr>\n",
       "    <tr>\n",
       "      <th>2</th>\n",
       "      <td>Zovigen</td>\n",
       "      <td>Zovigen Zovigen adalah obat oles yang bermanfa...</td>\n",
       "    </tr>\n",
       "    <tr>\n",
       "      <th>3</th>\n",
       "      <td>Zoralin Krim</td>\n",
       "      <td>Zoralin Krim Zoralin krim adalah obat oles unt...</td>\n",
       "    </tr>\n",
       "    <tr>\n",
       "      <th>4</th>\n",
       "      <td>Zoralin</td>\n",
       "      <td>Zoralin Zoralin adalah tablet antijamur berbah...</td>\n",
       "    </tr>\n",
       "    <tr>\n",
       "      <th>...</th>\n",
       "      <td>...</td>\n",
       "      <td>...</td>\n",
       "    </tr>\n",
       "    <tr>\n",
       "      <th>2168</th>\n",
       "      <td>Acarbose</td>\n",
       "      <td>Acarbose Acarbose adalah obat untuk menurunkan...</td>\n",
       "    </tr>\n",
       "    <tr>\n",
       "      <th>2169</th>\n",
       "      <td>Acalabrutinib</td>\n",
       "      <td>Acalabrutinib Acalabrutinib adalah obat kemote...</td>\n",
       "    </tr>\n",
       "    <tr>\n",
       "      <th>2170</th>\n",
       "      <td>Abrocitinib</td>\n",
       "      <td>Abrocitinib Abrocitinib adalah obat untuk meng...</td>\n",
       "    </tr>\n",
       "    <tr>\n",
       "      <th>2171</th>\n",
       "      <td>Abemaciclib</td>\n",
       "      <td>Abemaciclib Abemaciclib adalah obat kemoterapi...</td>\n",
       "    </tr>\n",
       "    <tr>\n",
       "      <th>2172</th>\n",
       "      <td>Abacavir</td>\n",
       "      <td>Abacavir Abacavir adalah obat antivirus yang d...</td>\n",
       "    </tr>\n",
       "  </tbody>\n",
       "</table>\n",
       "<p>2173 rows × 2 columns</p>\n",
       "</div>"
      ],
      "text/plain": [
       "          nama_obat                                  cleaned_reference\n",
       "0           Zyloric  Zyloric Zyloric adalah obat untuk menurunkan k...\n",
       "1      Zovirax Krim  Zovirax Krim Zovirax krim adalah obat oles yan...\n",
       "2           Zovigen  Zovigen Zovigen adalah obat oles yang bermanfa...\n",
       "3      Zoralin Krim  Zoralin Krim Zoralin krim adalah obat oles unt...\n",
       "4           Zoralin  Zoralin Zoralin adalah tablet antijamur berbah...\n",
       "...             ...                                                ...\n",
       "2168       Acarbose  Acarbose Acarbose adalah obat untuk menurunkan...\n",
       "2169  Acalabrutinib  Acalabrutinib Acalabrutinib adalah obat kemote...\n",
       "2170    Abrocitinib  Abrocitinib Abrocitinib adalah obat untuk meng...\n",
       "2171    Abemaciclib  Abemaciclib Abemaciclib adalah obat kemoterapi...\n",
       "2172       Abacavir  Abacavir Abacavir adalah obat antivirus yang d...\n",
       "\n",
       "[2173 rows x 2 columns]"
      ]
     },
     "execution_count": 17,
     "metadata": {},
     "output_type": "execute_result"
    }
   ],
   "source": [
    "df_obat_for_ndcg"
   ]
  },
  {
   "cell_type": "code",
   "execution_count": 18,
   "id": "eba799a0",
   "metadata": {},
   "outputs": [],
   "source": [
    "import pandas as pd\n",
    "import json\n",
    "\n",
    "def format_result_to_text(user_data):\n",
    "    formatted_text = \"\"\n",
    "    for idx, record in enumerate(user_data['agent']):\n",
    "        nomor = idx + 1  \n",
    "        formatted_text += f\"{nomor}. Rekomendasi obat:\\n\"\n",
    "        formatted_text += f\" - {record.get('nama_obat')} Dosis: {record.get('dosis')}\\n\"\n",
    "        formatted_text += f\"   Aturan pakai: {record.get('aturan_pakai', 'Aturan Pakai Tidak Tersedia')}\\n\"\n",
    "        formatted_text += f\"   Efek samping: {record.get('efek_samping_obat', 'Efek Samping Tidak Tersedia')}\\n\\n\"\n",
    "    return formatted_text.strip()\n",
    "\n",
    "with open('memory.json', 'r') as file:\n",
    "    data = json.load(file)\n",
    "\n",
    "df_obat_for_bleu = pd.DataFrame({\n",
    "    'generated_text': [None] * 4 \n",
    "})\n",
    "\n",
    "user_id = \"7116300622\"\n",
    "if user_id in data:\n",
    "    user_data = data[user_id][0] \n",
    "    formatted_text = format_result_to_text(user_data)\n",
    "    \n",
    "    df_obat_for_bleu.loc[0, 'generated_text'] = formatted_text\n"
   ]
  },
  {
   "cell_type": "code",
   "execution_count": 19,
   "id": "0199e8f4",
   "metadata": {},
   "outputs": [],
   "source": [
    "bleu_scores = []\n",
    "rouge_scores = []\n",
    "\n",
    "rouge = Rouge()"
   ]
  },
  {
   "cell_type": "code",
   "execution_count": 20,
   "id": "db43b162",
   "metadata": {},
   "outputs": [
    {
     "ename": "KeyboardInterrupt",
     "evalue": "",
     "output_type": "error",
     "traceback": [
      "\u001b[1;31m---------------------------------------------------------------------------\u001b[0m",
      "\u001b[1;31mKeyboardInterrupt\u001b[0m                         Traceback (most recent call last)",
      "Cell \u001b[1;32mIn[20], line 10\u001b[0m\n\u001b[0;32m      7\u001b[0m     bleu_scores\u001b[38;5;241m.\u001b[39mappend(bleu)\n\u001b[0;32m      9\u001b[0m     \u001b[38;5;66;03m# Hitung ROUGE\u001b[39;00m\n\u001b[1;32m---> 10\u001b[0m     rouge_score \u001b[38;5;241m=\u001b[39m \u001b[43mrouge\u001b[49m\u001b[38;5;241;43m.\u001b[39;49m\u001b[43mget_scores\u001b[49m\u001b[43m(\u001b[49m\u001b[43mrow\u001b[49m\u001b[43m[\u001b[49m\u001b[38;5;124;43m'\u001b[39;49m\u001b[38;5;124;43mgenerated_text\u001b[39;49m\u001b[38;5;124;43m'\u001b[39;49m\u001b[43m]\u001b[49m\u001b[43m,\u001b[49m\u001b[43m \u001b[49m\u001b[43mrow\u001b[49m\u001b[43m[\u001b[49m\u001b[38;5;124;43m'\u001b[39;49m\u001b[38;5;124;43mcleaned_reference\u001b[39;49m\u001b[38;5;124;43m'\u001b[39;49m\u001b[43m]\u001b[49m\u001b[43m)\u001b[49m[\u001b[38;5;241m0\u001b[39m]\n\u001b[0;32m     11\u001b[0m     rouge_scores\u001b[38;5;241m.\u001b[39mappend(rouge_score)\n\u001b[0;32m     13\u001b[0m \u001b[38;5;66;03m# Rata-rata skor\u001b[39;00m\n",
      "File \u001b[1;32mc:\\Users\\andrian\\AppData\\Local\\Programs\\Python\\Python310\\lib\\site-packages\\rouge\\rouge.py:107\u001b[0m, in \u001b[0;36mRouge.get_scores\u001b[1;34m(self, hyps, refs, avg, ignore_empty)\u001b[0m\n\u001b[0;32m    104\u001b[0m \u001b[38;5;28;01massert\u001b[39;00m(\u001b[38;5;28mlen\u001b[39m(hyps) \u001b[38;5;241m==\u001b[39m \u001b[38;5;28mlen\u001b[39m(refs))\n\u001b[0;32m    106\u001b[0m \u001b[38;5;28;01mif\u001b[39;00m \u001b[38;5;129;01mnot\u001b[39;00m avg:\n\u001b[1;32m--> 107\u001b[0m     \u001b[38;5;28;01mreturn\u001b[39;00m \u001b[38;5;28;43mself\u001b[39;49m\u001b[38;5;241;43m.\u001b[39;49m\u001b[43m_get_scores\u001b[49m\u001b[43m(\u001b[49m\u001b[43mhyps\u001b[49m\u001b[43m,\u001b[49m\u001b[43m \u001b[49m\u001b[43mrefs\u001b[49m\u001b[43m)\u001b[49m\n\u001b[0;32m    108\u001b[0m \u001b[38;5;28;01mreturn\u001b[39;00m \u001b[38;5;28mself\u001b[39m\u001b[38;5;241m.\u001b[39m_get_avg_scores(hyps, refs)\n",
      "File \u001b[1;32mc:\\Users\\andrian\\AppData\\Local\\Programs\\Python\\Python310\\lib\\site-packages\\rouge\\rouge.py:120\u001b[0m, in \u001b[0;36mRouge._get_scores\u001b[1;34m(self, hyps, refs)\u001b[0m\n\u001b[0;32m    118\u001b[0m \u001b[38;5;28;01mfor\u001b[39;00m m \u001b[38;5;129;01min\u001b[39;00m \u001b[38;5;28mself\u001b[39m\u001b[38;5;241m.\u001b[39mmetrics:\n\u001b[0;32m    119\u001b[0m     fn \u001b[38;5;241m=\u001b[39m Rouge\u001b[38;5;241m.\u001b[39mAVAILABLE_METRICS[m]\n\u001b[1;32m--> 120\u001b[0m     sc \u001b[38;5;241m=\u001b[39m \u001b[43mfn\u001b[49m\u001b[43m(\u001b[49m\n\u001b[0;32m    121\u001b[0m \u001b[43m        \u001b[49m\u001b[43mhyp\u001b[49m\u001b[43m,\u001b[49m\n\u001b[0;32m    122\u001b[0m \u001b[43m        \u001b[49m\u001b[43mref\u001b[49m\u001b[43m,\u001b[49m\n\u001b[0;32m    123\u001b[0m \u001b[43m        \u001b[49m\u001b[43mraw_results\u001b[49m\u001b[38;5;241;43m=\u001b[39;49m\u001b[38;5;28;43mself\u001b[39;49m\u001b[38;5;241;43m.\u001b[39;49m\u001b[43mraw_results\u001b[49m\u001b[43m,\u001b[49m\n\u001b[0;32m    124\u001b[0m \u001b[43m        \u001b[49m\u001b[43mexclusive\u001b[49m\u001b[38;5;241;43m=\u001b[39;49m\u001b[38;5;28;43mself\u001b[39;49m\u001b[38;5;241;43m.\u001b[39;49m\u001b[43mexclusive\u001b[49m\u001b[43m)\u001b[49m\n\u001b[0;32m    125\u001b[0m     sen_score[m] \u001b[38;5;241m=\u001b[39m {s: sc[s] \u001b[38;5;28;01mfor\u001b[39;00m s \u001b[38;5;129;01min\u001b[39;00m \u001b[38;5;28mself\u001b[39m\u001b[38;5;241m.\u001b[39mstats}\n\u001b[0;32m    127\u001b[0m \u001b[38;5;28;01mif\u001b[39;00m \u001b[38;5;28mself\u001b[39m\u001b[38;5;241m.\u001b[39mreturn_lengths:\n",
      "File \u001b[1;32mc:\\Users\\andrian\\AppData\\Local\\Programs\\Python\\Python310\\lib\\site-packages\\rouge\\rouge.py:59\u001b[0m, in \u001b[0;36mRouge.<lambda>\u001b[1;34m(hyp, ref, **k)\u001b[0m\n\u001b[0;32m     50\u001b[0m \u001b[38;5;28;01mclass\u001b[39;00m \u001b[38;5;21;01mRouge\u001b[39;00m:\n\u001b[0;32m     51\u001b[0m     DEFAULT_METRICS \u001b[38;5;241m=\u001b[39m [\u001b[38;5;124m\"\u001b[39m\u001b[38;5;124mrouge-1\u001b[39m\u001b[38;5;124m\"\u001b[39m, \u001b[38;5;124m\"\u001b[39m\u001b[38;5;124mrouge-2\u001b[39m\u001b[38;5;124m\"\u001b[39m, \u001b[38;5;124m\"\u001b[39m\u001b[38;5;124mrouge-l\u001b[39m\u001b[38;5;124m\"\u001b[39m]\n\u001b[0;32m     52\u001b[0m     AVAILABLE_METRICS \u001b[38;5;241m=\u001b[39m {\n\u001b[0;32m     53\u001b[0m         \u001b[38;5;124m\"\u001b[39m\u001b[38;5;124mrouge-1\u001b[39m\u001b[38;5;124m\"\u001b[39m: \u001b[38;5;28;01mlambda\u001b[39;00m hyp, ref, \u001b[38;5;241m*\u001b[39m\u001b[38;5;241m*\u001b[39mk: rouge_score\u001b[38;5;241m.\u001b[39mrouge_n(hyp, ref, \u001b[38;5;241m1\u001b[39m, \u001b[38;5;241m*\u001b[39m\u001b[38;5;241m*\u001b[39mk),\n\u001b[0;32m     54\u001b[0m         \u001b[38;5;124m\"\u001b[39m\u001b[38;5;124mrouge-2\u001b[39m\u001b[38;5;124m\"\u001b[39m: \u001b[38;5;28;01mlambda\u001b[39;00m hyp, ref, \u001b[38;5;241m*\u001b[39m\u001b[38;5;241m*\u001b[39mk: rouge_score\u001b[38;5;241m.\u001b[39mrouge_n(hyp, ref, \u001b[38;5;241m2\u001b[39m, \u001b[38;5;241m*\u001b[39m\u001b[38;5;241m*\u001b[39mk),\n\u001b[0;32m     55\u001b[0m         \u001b[38;5;124m\"\u001b[39m\u001b[38;5;124mrouge-3\u001b[39m\u001b[38;5;124m\"\u001b[39m: \u001b[38;5;28;01mlambda\u001b[39;00m hyp, ref, \u001b[38;5;241m*\u001b[39m\u001b[38;5;241m*\u001b[39mk: rouge_score\u001b[38;5;241m.\u001b[39mrouge_n(hyp, ref, \u001b[38;5;241m3\u001b[39m, \u001b[38;5;241m*\u001b[39m\u001b[38;5;241m*\u001b[39mk),\n\u001b[0;32m     56\u001b[0m         \u001b[38;5;124m\"\u001b[39m\u001b[38;5;124mrouge-4\u001b[39m\u001b[38;5;124m\"\u001b[39m: \u001b[38;5;28;01mlambda\u001b[39;00m hyp, ref, \u001b[38;5;241m*\u001b[39m\u001b[38;5;241m*\u001b[39mk: rouge_score\u001b[38;5;241m.\u001b[39mrouge_n(hyp, ref, \u001b[38;5;241m4\u001b[39m, \u001b[38;5;241m*\u001b[39m\u001b[38;5;241m*\u001b[39mk),\n\u001b[0;32m     57\u001b[0m         \u001b[38;5;124m\"\u001b[39m\u001b[38;5;124mrouge-5\u001b[39m\u001b[38;5;124m\"\u001b[39m: \u001b[38;5;28;01mlambda\u001b[39;00m hyp, ref, \u001b[38;5;241m*\u001b[39m\u001b[38;5;241m*\u001b[39mk: rouge_score\u001b[38;5;241m.\u001b[39mrouge_n(hyp, ref, \u001b[38;5;241m5\u001b[39m, \u001b[38;5;241m*\u001b[39m\u001b[38;5;241m*\u001b[39mk),\n\u001b[0;32m     58\u001b[0m         \u001b[38;5;124m\"\u001b[39m\u001b[38;5;124mrouge-l\u001b[39m\u001b[38;5;124m\"\u001b[39m: \u001b[38;5;28;01mlambda\u001b[39;00m hyp, ref, \u001b[38;5;241m*\u001b[39m\u001b[38;5;241m*\u001b[39mk:\n\u001b[1;32m---> 59\u001b[0m             rouge_score\u001b[38;5;241m.\u001b[39mrouge_l_summary_level(hyp, ref, \u001b[38;5;241m*\u001b[39m\u001b[38;5;241m*\u001b[39mk),\n\u001b[0;32m     60\u001b[0m     }\n\u001b[0;32m     61\u001b[0m     DEFAULT_STATS \u001b[38;5;241m=\u001b[39m [\u001b[38;5;124m\"\u001b[39m\u001b[38;5;124mr\u001b[39m\u001b[38;5;124m\"\u001b[39m, \u001b[38;5;124m\"\u001b[39m\u001b[38;5;124mp\u001b[39m\u001b[38;5;124m\"\u001b[39m, \u001b[38;5;124m\"\u001b[39m\u001b[38;5;124mf\u001b[39m\u001b[38;5;124m\"\u001b[39m]\n\u001b[0;32m     62\u001b[0m     AVAILABLE_STATS \u001b[38;5;241m=\u001b[39m [\u001b[38;5;124m\"\u001b[39m\u001b[38;5;124mr\u001b[39m\u001b[38;5;124m\"\u001b[39m, \u001b[38;5;124m\"\u001b[39m\u001b[38;5;124mp\u001b[39m\u001b[38;5;124m\"\u001b[39m, \u001b[38;5;124m\"\u001b[39m\u001b[38;5;124mf\u001b[39m\u001b[38;5;124m\"\u001b[39m]\n",
      "File \u001b[1;32mc:\\Users\\andrian\\AppData\\Local\\Programs\\Python\\Python310\\lib\\site-packages\\rouge\\rouge_score.py:389\u001b[0m, in \u001b[0;36mrouge_l_summary_level\u001b[1;34m(evaluated_sentences, reference_sentences, raw_results, exclusive, **_)\u001b[0m\n\u001b[0;32m    387\u001b[0m union \u001b[38;5;241m=\u001b[39m Ngrams(exclusive\u001b[38;5;241m=\u001b[39mexclusive)\n\u001b[0;32m    388\u001b[0m \u001b[38;5;28;01mfor\u001b[39;00m ref_s \u001b[38;5;129;01min\u001b[39;00m reference_sentences:\n\u001b[1;32m--> 389\u001b[0m     lcs_count, union \u001b[38;5;241m=\u001b[39m \u001b[43m_union_lcs\u001b[49m\u001b[43m(\u001b[49m\u001b[43mevaluated_sentences\u001b[49m\u001b[43m,\u001b[49m\n\u001b[0;32m    390\u001b[0m \u001b[43m                                  \u001b[49m\u001b[43mref_s\u001b[49m\u001b[43m,\u001b[49m\n\u001b[0;32m    391\u001b[0m \u001b[43m                                  \u001b[49m\u001b[43mprev_union\u001b[49m\u001b[38;5;241;43m=\u001b[39;49m\u001b[43munion\u001b[49m\u001b[43m,\u001b[49m\n\u001b[0;32m    392\u001b[0m \u001b[43m                                  \u001b[49m\u001b[43mexclusive\u001b[49m\u001b[38;5;241;43m=\u001b[39;49m\u001b[43mexclusive\u001b[49m\u001b[43m)\u001b[49m\n\u001b[0;32m    393\u001b[0m     union_lcs_sum_across_all_references \u001b[38;5;241m+\u001b[39m\u001b[38;5;241m=\u001b[39m lcs_count\n\u001b[0;32m    395\u001b[0m llcs \u001b[38;5;241m=\u001b[39m union_lcs_sum_across_all_references\n",
      "File \u001b[1;32mc:\\Users\\andrian\\AppData\\Local\\Programs\\Python\\Python310\\lib\\site-packages\\rouge\\rouge_score.py:333\u001b[0m, in \u001b[0;36m_union_lcs\u001b[1;34m(evaluated_sentences, reference_sentence, prev_union, exclusive)\u001b[0m\n\u001b[0;32m    331\u001b[0m \u001b[38;5;28;01mfor\u001b[39;00m eval_s \u001b[38;5;129;01min\u001b[39;00m evaluated_sentences:\n\u001b[0;32m    332\u001b[0m     evaluated_words \u001b[38;5;241m=\u001b[39m _split_into_words([eval_s])\n\u001b[1;32m--> 333\u001b[0m     lcs \u001b[38;5;241m=\u001b[39m \u001b[43m_recon_lcs\u001b[49m\u001b[43m(\u001b[49m\u001b[43mreference_words\u001b[49m\u001b[43m,\u001b[49m\u001b[43m \u001b[49m\u001b[43mevaluated_words\u001b[49m\u001b[43m,\u001b[49m\u001b[43m \u001b[49m\u001b[43mexclusive\u001b[49m\u001b[38;5;241;43m=\u001b[39;49m\u001b[43mexclusive\u001b[49m\u001b[43m)\u001b[49m\n\u001b[0;32m    334\u001b[0m     combined_lcs_length \u001b[38;5;241m+\u001b[39m\u001b[38;5;241m=\u001b[39m \u001b[38;5;28mlen\u001b[39m(lcs)\n\u001b[0;32m    335\u001b[0m     lcs_union \u001b[38;5;241m=\u001b[39m lcs_union\u001b[38;5;241m.\u001b[39munion(lcs)\n",
      "File \u001b[1;32mc:\\Users\\andrian\\AppData\\Local\\Programs\\Python\\Python310\\lib\\site-packages\\rouge\\rouge_score.py:177\u001b[0m, in \u001b[0;36m_recon_lcs\u001b[1;34m(x, y, exclusive)\u001b[0m\n\u001b[0;32m    165\u001b[0m \u001b[38;5;250m\u001b[39m\u001b[38;5;124;03m\"\"\"\u001b[39;00m\n\u001b[0;32m    166\u001b[0m \u001b[38;5;124;03mReturns the Longest Subsequence between x and y.\u001b[39;00m\n\u001b[0;32m    167\u001b[0m \u001b[38;5;124;03mSource: http://www.algorithmist.com/index.php/Longest_Common_Subsequence\u001b[39;00m\n\u001b[1;32m   (...)\u001b[0m\n\u001b[0;32m    174\u001b[0m \u001b[38;5;124;03m  sequence: LCS of x and y\u001b[39;00m\n\u001b[0;32m    175\u001b[0m \u001b[38;5;124;03m\"\"\"\u001b[39;00m\n\u001b[0;32m    176\u001b[0m i, j \u001b[38;5;241m=\u001b[39m \u001b[38;5;28mlen\u001b[39m(x), \u001b[38;5;28mlen\u001b[39m(y)\n\u001b[1;32m--> 177\u001b[0m table \u001b[38;5;241m=\u001b[39m \u001b[43m_lcs\u001b[49m\u001b[43m(\u001b[49m\u001b[43mx\u001b[49m\u001b[43m,\u001b[49m\u001b[43m \u001b[49m\u001b[43my\u001b[49m\u001b[43m)\u001b[49m\n\u001b[0;32m    179\u001b[0m \u001b[38;5;28;01mdef\u001b[39;00m \u001b[38;5;21m_recon\u001b[39m(i, j):\n\u001b[0;32m    180\u001b[0m \u001b[38;5;250m    \u001b[39m\u001b[38;5;124;03m\"\"\"private recon calculation\"\"\"\u001b[39;00m\n",
      "File \u001b[1;32mc:\\Users\\andrian\\AppData\\Local\\Programs\\Python\\Python310\\lib\\site-packages\\rouge\\rouge_score.py:160\u001b[0m, in \u001b[0;36m_lcs\u001b[1;34m(x, y)\u001b[0m\n\u001b[0;32m    158\u001b[0m             table[i, j] \u001b[38;5;241m=\u001b[39m table[i \u001b[38;5;241m-\u001b[39m \u001b[38;5;241m1\u001b[39m, j \u001b[38;5;241m-\u001b[39m \u001b[38;5;241m1\u001b[39m] \u001b[38;5;241m+\u001b[39m \u001b[38;5;241m1\u001b[39m\n\u001b[0;32m    159\u001b[0m         \u001b[38;5;28;01melse\u001b[39;00m:\n\u001b[1;32m--> 160\u001b[0m             table[i, j] \u001b[38;5;241m=\u001b[39m \u001b[38;5;28mmax\u001b[39m(table[i \u001b[38;5;241m-\u001b[39m \u001b[38;5;241m1\u001b[39m, j], table[i, j \u001b[38;5;241m-\u001b[39m \u001b[38;5;241m1\u001b[39m])\n\u001b[0;32m    161\u001b[0m \u001b[38;5;28;01mreturn\u001b[39;00m table\n",
      "\u001b[1;31mKeyboardInterrupt\u001b[0m: "
     ]
    }
   ],
   "source": [
    "for idx, row in df.iterrows():\n",
    "    reference = [row['cleaned_reference'].split()]  # list of list\n",
    "    candidate = row['generated_text'].split()\n",
    "\n",
    "    # Hitung BLEU\n",
    "    bleu = sentence_bleu(reference, candidate)\n",
    "    bleu_scores.append(bleu)\n",
    "\n",
    "    # Hitung ROUGE\n",
    "    rouge_score = rouge.get_scores(row['generated_text'], row['cleaned_reference'])[0]\n",
    "    rouge_scores.append(rouge_score)\n",
    "\n",
    "# Rata-rata skor\n",
    "avg_bleu = sum(bleu_scores) / len(bleu_scores)\n",
    "avg_rouge_1 = sum([r['rouge-1']['f'] for r in rouge_scores]) / len(rouge_scores)\n",
    "avg_rouge_2 = sum([r['rouge-2']['f'] for r in rouge_scores]) / len(rouge_scores)\n",
    "avg_rouge_l = sum([r['rouge-l']['f'] for r in rouge_scores]) / len(rouge_scores)\n",
    "\n",
    "print(\"Average BLEU:\", avg_bleu)\n",
    "print(\"Average ROUGE-1:\", avg_rouge_1)\n",
    "print(\"Average ROUGE-2:\", avg_rouge_2)\n",
    "print(\"Average ROUGE-L:\", avg_rouge_l)"
   ]
  },
  {
   "cell_type": "code",
   "execution_count": 34,
   "id": "ae1a9999",
   "metadata": {},
   "outputs": [
    {
     "name": "stdout",
     "output_type": "stream",
     "text": [
      "NDCG Score: 0.3333333333333333\n"
     ]
    }
   ],
   "source": [
    "import math\n",
    "\n",
    "def dcg(relevances):\n",
    "    return sum((rel / math.log2(i + 2)) for i, rel in enumerate(relevances))\n",
    "\n",
    "def compute_ndcg_at_k(true_relevant, recommended_items, k=5):\n",
    "    recommended_items_k = recommended_items[:k]\n",
    "\n",
    "    relevance_scores = [1 if item in true_relevant else 0 for item in recommended_items_k]\n",
    "\n",
    "    actual_dcg = dcg(relevance_scores)\n",
    "\n",
    "    ideal_relevance = sorted(relevance_scores, reverse=True)\n",
    "    ideal_dcg = dcg(ideal_relevance)\n",
    "\n",
    "    if ideal_dcg == 0:\n",
    "        return 0.0\n",
    "\n",
    "    return actual_dcg / ideal_dcg\n",
    "\n",
    "true_relevant = ['Sumatriptan', 'paracetamol', 'Ibuprofen','Aspirin'] \n",
    "recommended_items = ['Metoprolol', 'Fludrocortisone', 'Loperamide', 'Sertraline', 'Antihistamine', 'Meclizine','Sumatriptan'] \n",
    "ndcg_score = compute_ndcg_at_k(true_relevant, recommended_items, k=10)\n",
    "\n",
    "print(f'NDCG Score: {ndcg_score}')"
   ]
  },
  {
   "cell_type": "code",
   "execution_count": 35,
   "id": "a518ad68",
   "metadata": {},
   "outputs": [
    {
     "name": "stdout",
     "output_type": "stream",
     "text": [
      "NDCG Score: 0.6240505200038379\n"
     ]
    }
   ],
   "source": [
    "true_relevant = ['cetirizine', 'hidrokortison', 'Nizoral krim','Diphenhydramine'] \n",
    "recommended_items = ['Cetirizine', 'hidrokortison', 'Clotrimazole', 'Sertraline', 'Diphenhydramine'] \n",
    "ndcg_score = compute_ndcg_at_k(true_relevant, recommended_items, k=10)\n",
    "\n",
    "print(f'NDCG Score: {ndcg_score}')"
   ]
  },
  {
   "cell_type": "code",
   "execution_count": null,
   "id": "aef302ec",
   "metadata": {},
   "outputs": [
    {
     "name": "stdout",
     "output_type": "stream",
     "text": [
      "F1 Score: 0.3902439024390244\n"
     ]
    }
   ],
   "source": [
    "def f1_score_rag(pred, true):\n",
    "    pred_tokens = pred.lower().split()\n",
    "    true_tokens = true.lower().split()\n",
    "\n",
    "    common = set(pred_tokens) & set(true_tokens)\n",
    "    if not common:\n",
    "        return 0.0\n",
    "\n",
    "    precision = len(common) / len(pred_tokens)\n",
    "    recall = len(common) / len(true_tokens)\n",
    "    f1 = 2 * precision * recall / (precision + recall)\n",
    "    return f1\n",
    "\n",
    "generated_answer = 'Modafinil diambil sesuai dosis yang diresepkan dokter tergantung kondisi pasien. Pastikan untuk mengikuti instruksi serta waktu dan cara penggunaan yang tepat.'\n",
    "ground_truth_answer = 'Dosis modafinil yang diresepkan dokter dapat berbeda pada tiap pasien. Berikut ini adalah dosis umum penggunaan modafinil berdasarkan kondisi pasien'\n",
    "\n",
    "f1_score = f1_score_rag(generated_answer, ground_truth_answer)\n",
    "\n",
    "print(\"F1 Score:\",f1_score)"
   ]
  },
  {
   "cell_type": "code",
   "execution_count": null,
   "id": "8b5e70af",
   "metadata": {},
   "outputs": [
    {
     "ename": "NameError",
     "evalue": "name 'avg_bleu' is not defined",
     "output_type": "error",
     "traceback": [
      "\u001b[1;31m---------------------------------------------------------------------------\u001b[0m",
      "\u001b[1;31mNameError\u001b[0m                                 Traceback (most recent call last)",
      "Cell \u001b[1;32mIn[12], line 2\u001b[0m\n\u001b[0;32m      1\u001b[0m scores \u001b[38;5;241m=\u001b[39m {\n\u001b[1;32m----> 2\u001b[0m     \u001b[38;5;124m\"\u001b[39m\u001b[38;5;124mBleu\u001b[39m\u001b[38;5;124m\"\u001b[39m : \u001b[43mavg_bleu\u001b[49m,\n\u001b[0;32m      3\u001b[0m     \u001b[38;5;124m\"\u001b[39m\u001b[38;5;124mRouge-1\u001b[39m\u001b[38;5;124m\"\u001b[39m : avg_rouge_1,\n\u001b[0;32m      4\u001b[0m     \u001b[38;5;124m\"\u001b[39m\u001b[38;5;124mRouge-2\u001b[39m\u001b[38;5;124m\"\u001b[39m : avg_rouge_2,\n\u001b[0;32m      5\u001b[0m     \u001b[38;5;124m\"\u001b[39m\u001b[38;5;124mRouge-L\u001b[39m\u001b[38;5;124m\"\u001b[39m : avg_rouge_l,\n\u001b[0;32m      6\u001b[0m     \u001b[38;5;124m\"\u001b[39m\u001b[38;5;124mF1-Score\u001b[39m\u001b[38;5;124m\"\u001b[39m : f1_score,\n\u001b[0;32m      7\u001b[0m     \u001b[38;5;124m\"\u001b[39m\u001b[38;5;124mNDCG\u001b[39m\u001b[38;5;124m\"\u001b[39m : ndcg_score\n\u001b[0;32m      8\u001b[0m }\n",
      "\u001b[1;31mNameError\u001b[0m: name 'avg_bleu' is not defined"
     ]
    }
   ],
   "source": [
    "scores = {\n",
    "    \"Bleu\" : avg_bleu,\n",
    "    \"Rouge-1\" : avg_rouge_1,\n",
    "    \"Rouge-2\" : avg_rouge_2,\n",
    "    \"Rouge-L\" : avg_rouge_l,\n",
    "    \"F1-Score\" : f1_score,\n",
    "    \"NDCG\" : ndcg_score\n",
    "}"
   ]
  },
  {
   "cell_type": "code",
   "execution_count": null,
   "id": "3421947a",
   "metadata": {},
   "outputs": [
    {
     "ename": "NameError",
     "evalue": "name 'scores' is not defined",
     "output_type": "error",
     "traceback": [
      "\u001b[1;31m---------------------------------------------------------------------------\u001b[0m",
      "\u001b[1;31mNameError\u001b[0m                                 Traceback (most recent call last)",
      "Cell \u001b[1;32mIn[13], line 4\u001b[0m\n\u001b[0;32m      1\u001b[0m \u001b[38;5;28;01mimport\u001b[39;00m \u001b[38;5;21;01mmatplotlib\u001b[39;00m\u001b[38;5;21;01m.\u001b[39;00m\u001b[38;5;21;01mpyplot\u001b[39;00m \u001b[38;5;28;01mas\u001b[39;00m \u001b[38;5;21;01mplt\u001b[39;00m\n\u001b[0;32m      3\u001b[0m \u001b[38;5;66;03m# Data\u001b[39;00m\n\u001b[1;32m----> 4\u001b[0m metrics \u001b[38;5;241m=\u001b[39m \u001b[38;5;28mlist\u001b[39m(\u001b[43mscores\u001b[49m\u001b[38;5;241m.\u001b[39mkeys())\n\u001b[0;32m      5\u001b[0m values \u001b[38;5;241m=\u001b[39m \u001b[38;5;28mlist\u001b[39m(scores\u001b[38;5;241m.\u001b[39mvalues())\n\u001b[0;32m      7\u001b[0m \u001b[38;5;66;03m# Plot\u001b[39;00m\n",
      "\u001b[1;31mNameError\u001b[0m: name 'scores' is not defined"
     ]
    }
   ],
   "source": [
    "import matplotlib.pyplot as plt\n",
    "\n",
    "# Data\n",
    "metrics = list(scores.keys())\n",
    "values = list(scores.values())\n",
    "\n",
    "# Plot\n",
    "plt.figure(figsize=(8, 5))\n",
    "bars = plt.bar(metrics, values, color='skyblue')\n",
    "\n",
    "# Tambahkan nilai di atas bar\n",
    "for bar in bars:\n",
    "    yval = bar.get_height()\n",
    "    plt.text(bar.get_x() + bar.get_width()/2.0, yval + 0.01, f\"{yval:.2f}\", ha='center')\n",
    "\n",
    "# Label dan judul\n",
    "plt.ylim(0, 1)\n",
    "plt.title(\"Model Performance Metrics\")\n",
    "plt.ylabel(\"Score\")\n",
    "plt.xlabel(\"Metrics\")\n",
    "plt.grid(axis='y', linestyle='--', alpha=0.7)\n",
    "plt.tight_layout()\n",
    "plt.show()\n"
   ]
  },
  {
   "cell_type": "code",
   "execution_count": null,
   "id": "25e4fde5",
   "metadata": {},
   "outputs": [],
   "source": []
  }
 ],
 "metadata": {
  "kernelspec": {
   "display_name": "Python 3",
   "language": "python",
   "name": "python3"
  },
  "language_info": {
   "codemirror_mode": {
    "name": "ipython",
    "version": 3
   },
   "file_extension": ".py",
   "mimetype": "text/x-python",
   "name": "python",
   "nbconvert_exporter": "python",
   "pygments_lexer": "ipython3",
   "version": "3.10.0"
  }
 },
 "nbformat": 4,
 "nbformat_minor": 5
}
