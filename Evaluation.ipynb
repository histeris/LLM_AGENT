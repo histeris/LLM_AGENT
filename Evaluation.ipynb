{
 "cells": [
  {
   "cell_type": "code",
   "execution_count": 2,
   "id": "d679562d",
   "metadata": {},
   "outputs": [],
   "source": [
    "from ragas.llms import LangchainLLMWrapper\n",
    "from langchain_openai import ChatOpenAI\n",
    "from langchain_core.messages import BaseMessage\n",
    "from langchain_core.language_models import BaseLanguageModel\n",
    "import os\n",
    "from dotenv import load_dotenv\n",
    "\n",
    "load_dotenv()\n",
    "\n",
    "api_key = os.getenv(\"OPENAI_API_KEY\")\n",
    "\n",
    "langchain_openai_model: BaseLanguageModel[BaseMessage] = ChatOpenAI(model=\"gpt-4o-mini\", temperature=0, openai_api_key=os.getenv(\"OPENAI_API_KEY\"))\n",
    "\n",
    "evaluator_llm = LangchainLLMWrapper(langchain_llm=langchain_openai_model)"
   ]
  },
  {
   "cell_type": "code",
   "execution_count": 3,
   "id": "a5c1004b",
   "metadata": {},
   "outputs": [],
   "source": [
    "from langchain_openai import OpenAIEmbeddings\n",
    "from ragas.embeddings import LangchainEmbeddingsWrapper\n",
    "\n",
    "openai_embeddings = OpenAIEmbeddings(api_key=api_key)\n",
    "\n",
    "evaluator_embeddings = LangchainEmbeddingsWrapper(openai_embeddings)"
   ]
  },
  {
   "cell_type": "code",
   "execution_count": 9,
   "id": "3ce59583",
   "metadata": {},
   "outputs": [
    {
     "name": "stdout",
     "output_type": "stream",
     "text": [
      "Response Relevancy Score: 0.7858849933549745\n"
     ]
    }
   ],
   "source": [
    "from ragas.metrics import Faithfulness,ResponseRelevancy,LLMContextPrecisionWithoutReference,LLMContextRecall,NoiseSensitivity\n",
    "from ragas.dataset_schema import SingleTurnSample\n",
    "\n",
    "sample = SingleTurnSample(\n",
    "    user_input=\"Obat apa yang cocok untuk Penyakit gangguan kecemasan umum ?\",\n",
    "    response=\"Obat yang dapat direkomendasikan adalah Sertraline, dengan tingkat risiko sedang. Obat ini cocok untuk mengatasi gejala seperti merasa gelisah, mudah tersinggung, dan kesulitan berkonsentrasi. Dosis yang disarankan adalah 50 mg per hari, yang bisa dikonsumsi sekali sehari, baik pada pagi maupun malam hari. Efek samping yang mungkin timbul meliputi kesulitan tidur, kelelahan, dan gangguan konsentrasi.\",\n",
    "    reference=\"Sertraline adalah obat antidepresan golongan Selective Serotonin Reuptake Inhibitor (SSRI) yang bekerja dengan cara menyeimbangkan kadar serotonin dalam otak, sehingga membantu mengatur suasana hati. Obat ini umum digunakan untuk mengatasi depresi, gangguan obsesif kompulsif (OCD), gangguan panik, PTSD, dan gangguan kecemasan sosial. Dosis awal untuk dewasa umumnya 50 mg sekali sehari, yang bisa ditingkatkan bertahap hingga maksimal 200 mg per hari tergantung kondisi dan respon pasien. Efek samping yang mungkin timbul meliputi kesulitan tidur, kelelahan, dan gangguan konsentrasi. Penggunaan Sertraline perlu dihindari jika sedang menggunakan MAOI, memiliki riwayat gangguan bipolar, penyakit jantung, atau sedang hamil dan menyusui, kecuali atas rekomendasi dokter. Sertraline juga tidak disarankan untuk dikonsumsi bersama alkohol dan harus digunakan dengan pengawasan medis. Beberapa merek dagang dari Sertraline termasuk Zoloft, Zerlin, dan Serlof. Obat ini tersedia dalam bentuk tablet dan hanya boleh digunakan sesuai resep dokter.\",\n",
    "    retrieved_contexts = [\n",
    "        \"Sertraline adalah obat antidepresan golongan SSRI yang digunakan untuk menangani depresi, OCD, gangguan panik, PTSD, gangguan kecemasan sosial, dan premenstrual dysphoric disorder.\",\n",
    "        \"Sertraline bekerja dengan menyeimbangkan kadar serotonin di otak yang memengaruhi suasana hati dan emosi.\",\n",
    "        \"Merek dagang Sertraline antara lain Deptral, Fatral, Fridep 50, Iglodep, Nudep, Serlof, Sernade, Sertraline HCL, Zerlin, dan Zoloft.\",\n",
    "        \"Obat ini dikonsumsi oleh dewasa dan anak usia ≥6 tahun (untuk OCD) dengan pengawasan dokter.\",\n",
    "        \"Sertraline masuk kategori C untuk ibu hamil, artinya risiko terhadap janin ada, namun penggunaannya bisa dipertimbangkan jika manfaat lebih besar daripada risikonya.\",\n",
    "        \"Sertraline tidak boleh dikonsumsi bersamaan dengan obat golongan MAOI dalam 14 hari terakhir.\",\n",
    "        \"Penggunaan sertraline perlu hati-hati pada pasien dengan gangguan bipolar, jantung, kejang, stroke, diabetes, atau glaukoma.\",\n",
    "        \"Efek samping Sertraline antara lain kantuk, pusing, gangguan konsentrasi, dan risiko interaksi dengan alkohol.\",\n",
    "        \"Dosis awal Sertraline untuk depresi adalah 50 mg per hari, dan bisa ditingkatkan hingga maksimal 200 mg tergantung respon pasien.\",\n",
    "        \"Untuk gangguan kecemasan sosial, panik, dan PTSD, dosis awal 25 mg dan ditingkatkan jadi 50 mg per hari setelah 1 minggu.\",\n",
    "        \"Pada anak usia 6–12 tahun dengan OCD, dosis awal 25 mg/hari, bisa naik ke 50 mg/hari setelah seminggu.\",\n",
    "        \"Untuk premenstrual dysphoric disorder, bisa diberikan secara kontinu atau intermiten, dosis mulai dari 50 mg/hari.\",\n",
    "        \"Bentuk sediaan Sertraline adalah tablet yang diminum satu kali sehari, pagi atau malam sesuai anjuran dokter.\",\n",
    "        \"Pasien perlu rutin memeriksakan diri saat menggunakan Sertraline, terutama di awal pengobatan.\"\n",
    "      ]\n",
    "\n",
    "  )\n",
    "scorer = ResponseRelevancy(llm=evaluator_llm, embeddings=evaluator_embeddings)\n",
    "RR_score = scorer.single_turn_score(sample)  \n",
    "print(\"Response Relevancy Score:\", RR_score)"
   ]
  },
  {
   "cell_type": "code",
   "execution_count": 10,
   "id": "51f1b8e8",
   "metadata": {},
   "outputs": [
    {
     "name": "stdout",
     "output_type": "stream",
     "text": [
      "Faithfullness Score: 0.6363636363636364\n"
     ]
    }
   ],
   "source": [
    "scorer = Faithfulness(llm=evaluator_llm)\n",
    "F_Score = await scorer.single_turn_ascore(sample)\n",
    "print(\"Faithfullness Score:\", F_Score)"
   ]
  },
  {
   "cell_type": "code",
   "execution_count": 11,
   "id": "03fc3efa",
   "metadata": {},
   "outputs": [
    {
     "name": "stdout",
     "output_type": "stream",
     "text": [
      "Noise Sensitivity Score: 0.09090909090909091\n"
     ]
    }
   ],
   "source": [
    "scorer = NoiseSensitivity(llm=evaluator_llm)\n",
    "Noise_Score = await scorer.single_turn_ascore(sample)\n",
    "print(\"Noise Sensitivity Score:\", Noise_Score)"
   ]
  },
  {
   "cell_type": "code",
   "execution_count": 12,
   "id": "7ee162b0",
   "metadata": {},
   "outputs": [
    {
     "name": "stdout",
     "output_type": "stream",
     "text": [
      "Context Precision Score: 0.7751945970599071\n"
     ]
    }
   ],
   "source": [
    "context_precision = LLMContextPrecisionWithoutReference(llm=evaluator_llm)\n",
    "CP_Score = await context_precision.single_turn_ascore(sample)\n",
    "print(\"Context Precision Score:\", CP_Score)"
   ]
  },
  {
   "cell_type": "code",
   "execution_count": 13,
   "id": "dc155935",
   "metadata": {},
   "outputs": [
    {
     "name": "stdout",
     "output_type": "stream",
     "text": [
      "Context Recall Score: 0.875\n"
     ]
    }
   ],
   "source": [
    "context_recall = LLMContextRecall(llm=evaluator_llm)\n",
    "CR_Score = await context_recall.single_turn_ascore(sample)\n",
    "print(\"Context Recall Score:\", CR_Score)"
   ]
  },
  {
   "cell_type": "code",
   "execution_count": null,
   "id": "37477a73",
   "metadata": {},
   "outputs": [],
   "source": []
  }
 ],
 "metadata": {
  "kernelspec": {
   "display_name": "Python 3",
   "language": "python",
   "name": "python3"
  },
  "language_info": {
   "codemirror_mode": {
    "name": "ipython",
    "version": 3
   },
   "file_extension": ".py",
   "mimetype": "text/x-python",
   "name": "python",
   "nbconvert_exporter": "python",
   "pygments_lexer": "ipython3",
   "version": "3.10.0"
  }
 },
 "nbformat": 4,
 "nbformat_minor": 5
}
